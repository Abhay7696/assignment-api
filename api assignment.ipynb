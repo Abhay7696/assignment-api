{
 "cells": [
  {
   "cell_type": "code",
   "execution_count": null,
   "id": "2cb1b3a7-148c-4a95-8322-403c6698d859",
   "metadata": {},
   "outputs": [],
   "source": [
    "Q1. What is an API? Give an example, where an API is used in real life."
   ]
  },
  {
   "cell_type": "code",
   "execution_count": null,
   "id": "6ca35b62-85a2-439b-9701-4387a01ab1ae",
   "metadata": {},
   "outputs": [],
   "source": [
    "APIs are used by web applications to link functionality and data on the back end with the user-facing front end. APIs are used to deliver content by streaming services like Spotify and Netflix. APIs are used to provide software updates by automakers like Tesla"
   ]
  },
  {
   "cell_type": "code",
   "execution_count": null,
   "id": "b3dfb1bc-4cf5-464c-93da-94417bbd9b27",
   "metadata": {},
   "outputs": [],
   "source": [
    "Q2. Give advantages and disadvantages of using API."
   ]
  },
  {
   "cell_type": "code",
   "execution_count": null,
   "id": "32b5bbcb-19d3-4a6e-a328-6a16dda5c11c",
   "metadata": {},
   "outputs": [],
   "source": [
    "You have the code written for you. Just plug and play. Your development time is reduced significantly.\n",
    "If you are using standard APIs, then a lot of other people are using that as well. So your codebase is somewhat portable which at times is beneficial.\n",
    "Standard APIs usually have a lot of free community support in case you need troubleshooting. If you tend to write all of your own code then you are pretty much on your own as far as debugging is concerned"
   ]
  },
  {
   "cell_type": "code",
   "execution_count": null,
   "id": "0e9d3a02-fd16-48f1-93b2-10edf07d0b14",
   "metadata": {},
   "outputs": [],
   "source": [
    "Q3. What is a Web API? Differentiate between API and Web API."
   ]
  },
  {
   "cell_type": "code",
   "execution_count": null,
   "id": "2d8df8b5-b3fb-4f4c-8b13-e82d98dc112c",
   "metadata": {},
   "outputs": [],
   "source": [
    "Web API as the name suggests, is an API over the web which can be accessed using HTTP protocol.\n",
    "\n",
    "Web service is used to communicate between two machines on a network.\n",
    "\n",
    "Web API is used as an interface between two different applications for communicating with each other"
   ]
  },
  {
   "cell_type": "code",
   "execution_count": null,
   "id": "96ad0f28-2ca3-4087-a955-ea0c5f23adae",
   "metadata": {},
   "outputs": [],
   "source": [
    "\n",
    "Representational state transfer (REST) is a set of architectural principles. Simple object access protocol (SOAP) is an official protocol maintained by the World Wide Web Consortium (W3C).\n",
    "The main difference is that SOAP is a protocol while REST is not."
   ]
  },
  {
   "cell_type": "code",
   "execution_count": null,
   "id": "5274545c-539a-4512-a51b-4bea718ebea3",
   "metadata": {},
   "outputs": [],
   "source": [
    "Q4 Differentiate between REST and SOAP."
   ]
  },
  {
   "cell_type": "code",
   "execution_count": null,
   "id": "af8f26d2-8f6f-4526-b4d8-00686873affd",
   "metadata": {},
   "outputs": [],
   "source": [
    "Relies on SOAP (Simple Object Access Protocol)\tRelies on REST (Representational State Transfer) architecture using HTTP.\n",
    "Transports data in standard XML format.\tGenerally transports data in JSON. It is based on URI. Because REST follows stateless model, REST does not enforces message format as XML or JSON etc.\n",
    "Because it is XML based and relies on SOAP, it works with WSDL\tIt works with GET, POST, PUT, DELETE\n",
    "Works over HTTP, HTTPS, SMTP, XMPP\tWorks over HTTP and HTTPS\n",
    "Highly structured/typed\tLess structured -> less bulky data\n",
    "Designed with large enterprise applications in mind\tDesigned with mobile devices in mind"
   ]
  },
  {
   "cell_type": "code",
   "execution_count": null,
   "id": "df64a80d-1fca-4206-9705-920ca2837387",
   "metadata": {},
   "outputs": [],
   "source": []
  },
  {
   "cell_type": "code",
   "execution_count": null,
   "id": "740797b7-3be3-4e51-8dec-d395e295e97e",
   "metadata": {},
   "outputs": [],
   "source": []
  }
 ],
 "metadata": {
  "kernelspec": {
   "display_name": "Python 3 (ipykernel)",
   "language": "python",
   "name": "python3"
  },
  "language_info": {
   "codemirror_mode": {
    "name": "ipython",
    "version": 3
   },
   "file_extension": ".py",
   "mimetype": "text/x-python",
   "name": "python",
   "nbconvert_exporter": "python",
   "pygments_lexer": "ipython3",
   "version": "3.10.8"
  }
 },
 "nbformat": 4,
 "nbformat_minor": 5
}
